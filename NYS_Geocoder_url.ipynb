{
 "cells": [
  {
   "cell_type": "code",
   "execution_count": 1,
   "metadata": {},
   "outputs": [
    {
     "name": "stdout",
     "output_type": "stream",
     "text": [
      "C:\\Users\\JGattuso\\AppData\\Local\\Continuum\\anaconda3\\lib\\site-packages\\geopython Import Denpendence\n"
     ]
    }
   ],
   "source": [
    "import requests\n",
    "import pandas as pd\n",
    "import json\n",
    "from pandas.io.json import json_normalize "
   ]
  },
  {
   "cell_type": "code",
   "execution_count": 2,
   "metadata": {},
   "outputs": [],
   "source": [
    "def singleLine(address, **kwargs):\n",
    "    option = kwargs.get('func', \"findAddressCandidates\")\n",
    "    street = kwargs.get('street', \"\")\n",
    "    city = kwargs.get('city', \"\")\n",
    "    state = kwargs.get('state', \"\")\n",
    "    ZIP = kwargs.get('ZIP', \"\")\n",
    "    f = kwargs.get('f', \"json\")\n",
    "    cat = kwargs.get('cat', \"\")\n",
    "    out = kwargs.get('out', \"\")\n",
    "    maxLoc = kwargs.get('maxLoc', \"\")\n",
    "    sr = kwargs.get('sr', \"4326\")\n",
    "    extent = kwargs.get('extent', \"\")\n",
    "    loc = kwargs.get('loc', \"\")\n",
    "    dist = kwargs.get('dist', \"\")\n",
    "    key = kwargs.get('key', \"\")\n",
    "    \n",
    "    url = \"https://gisservices.its.ny.gov/arcgis/rest/services/Locators/Street_and_Address_Composite/GeocodeServer/\"+str(option)+\"?Street=\"+str(street)+\"&City=\"+str(city)+\"&State=\"+str(state)+\"&ZIP=\"+str(ZIP)+\"&SingleLine=\"\n",
    "    end = \"&category=\"+str(cat)+\"&outFields=\"+str(out)+\"&maxLocations=\"+str(maxLoc)+\"&outSR=\"+str(sr)+\"&searchExtent=\"+str(extent)+\"&location=\"+str(loc)+\"&distance=\"+str(dist)+\"&magicKey=\"+str(key)+\"&f=\"+str(f)\n",
    "    rep = address.replace(\" \", \"+\").replace(',', \"%2C\").replace('\"', \"%22\").replace(\":\", \"%3A\").replace(\"]\", \"%5D\").replace(\"[\", \"%5B\").replace(\"}\", \"%7D\").replace(\"{\", \"%7B\") \n",
    "    ResponseDictionary = json.loads(requests.get(str(url+rep+end),verify=False).text) \n",
    "    print(str(url+rep+end))\n",
    "    return(ResponseDictionary)\n"
   ]
  },
  {
   "cell_type": "code",
   "execution_count": 3,
   "metadata": {
    "scrolled": false
   },
   "outputs": [
    {
     "name": "stderr",
     "output_type": "stream",
     "text": [
      "C:\\Users\\JGattuso\\AppData\\Local\\Continuum\\anaconda3\\lib\\site-packages\\urllib3\\connectionpool.py:1004: InsecureRequestWarning: Unverified HTTPS request is being made to host 'gisservices.its.ny.gov'. Adding certificate verification is strongly advised. See: https://urllib3.readthedocs.io/en/latest/advanced-usage.html#ssl-warnings\n",
      "  InsecureRequestWarning,\n"
     ]
    },
    {
     "name": "stdout",
     "output_type": "stream",
     "text": [
      "https://gisservices.its.ny.gov/arcgis/rest/services/Locators/Street_and_Address_Composite/GeocodeServer/findAddressCandidates?Street=&City=&State=&ZIP=&SingleLine=100N+Mohawk+St.%2C+Cohoes%2C+N.Y.+12047&category=&outFields=&maxLocations=&outSR=4326&searchExtent=&location=&distance=&magicKey=&f=json\n"
     ]
    },
    {
     "data": {
      "text/plain": [
       "{'spatialReference': {'wkid': 4326, 'latestWkid': 4326},\n",
       " 'candidates': [{'address': '100 Mohawk St, Cohoes, NY, 12047',\n",
       "   'location': {'x': -73.7001619876746, 'y': 42.77441467494029},\n",
       "   'score': 98.85,\n",
       "   'attributes': {}},\n",
       "  {'address': '100 N Mohawk St, Cohoes, NY, 12047',\n",
       "   'location': {'x': -73.70444805839927, 'y': 42.780545367383624},\n",
       "   'score': 92.05,\n",
       "   'attributes': {}},\n",
       "  {'address': '100 Mohawk St, Boght Corners, NY, 12047',\n",
       "   'location': {'x': -73.70016203308936, 'y': 42.77441474808796},\n",
       "   'score': 96.19,\n",
       "   'attributes': {}},\n",
       "  {'address': '100 N Mohawk St, Boght Corners, NY, 12047',\n",
       "   'location': {'x': -73.7044481334626, 'y': 42.78054544416903},\n",
       "   'score': 89.39,\n",
       "   'attributes': {}}]}"
      ]
     },
     "execution_count": 3,
     "metadata": {},
     "output_type": "execute_result"
    }
   ],
   "source": [
    "singleLine('100N Mohawk St., Cohoes, N.Y. 12047')"
   ]
  },
  {
   "cell_type": "code",
   "execution_count": 4,
   "metadata": {},
   "outputs": [],
   "source": [
    "ls = [\"10B Airline Drive, Albany, NY 12235\",\"800 North Pearl Street, Albany, NY 12204\",\"80 South Swan Street, Albany, NY 12210\"]    "
   ]
  },
  {
   "cell_type": "code",
   "execution_count": 5,
   "metadata": {},
   "outputs": [],
   "source": [
    "def batch(addressList, **kwargs):\n",
    "    option = kwargs.get('func', \"geocodeAddresses\")\n",
    "    cat = kwargs.get('cat', \"\")\n",
    "    country = kwargs.get('country', \"\")\n",
    "    sr = kwargs.get('sr', \"4326\")\n",
    "    f = kwargs.get('f', \"pjson\")\n",
    "    \n",
    "    domain = \"https://gisservices.its.ny.gov/arcgis/rest/services/Locators/Street_and_Address_Composite/GeocodeServer/\"+str(option)+\"?addresses=\"    \n",
    "    end = \"&category=\"+str(cat)+\"&sourceCountry=\"+str(country)+\"&outSR=\"+str(sr)+\"&f=\"+str(f)\n",
    "    length = 0\n",
    "    data = {}\n",
    "    data['records'] = []\n",
    "    while length < len(addressList):\n",
    "        data['records'].append({\n",
    "            \n",
    "            \"attributes\": {\n",
    "                \n",
    "            \"OBJECTID\": int(length+1),\n",
    "            \"SINGLELINE\": str(addressList[length]),\n",
    "                          }\n",
    "        })\n",
    "        \n",
    "        length = length+1\n",
    "    data = str(data).replace(\" \", \"+\").replace(',', \"%2C\").replace('\"', \"%22\").replace(\"'\", \"%22\").replace(\":\", \"%3A\").replace(\"]\", \"%5D\").replace(\"[\", \"%5B\").replace(\"}\", \"%7D\").replace(\"{\", \"%7B\")\n",
    "    url = domain + str(data) + end\n",
    "    ResponseDictionary = json.loads(requests.get(str(url),verify=False).text) \n",
    "    return(ResponseDictionary)"
   ]
  },
  {
   "cell_type": "code",
   "execution_count": 6,
   "metadata": {},
   "outputs": [
    {
     "name": "stderr",
     "output_type": "stream",
     "text": [
      "C:\\Users\\JGattuso\\AppData\\Local\\Continuum\\anaconda3\\lib\\site-packages\\urllib3\\connectionpool.py:1004: InsecureRequestWarning: Unverified HTTPS request is being made to host 'gisservices.its.ny.gov'. Adding certificate verification is strongly advised. See: https://urllib3.readthedocs.io/en/latest/advanced-usage.html#ssl-warnings\n",
      "  InsecureRequestWarning,\n"
     ]
    },
    {
     "data": {
      "text/plain": [
       "{'spatialReference': {'wkid': 4326, 'latestWkid': 4326},\n",
       " 'locations': [{'address': '10 B Airline Dr, Albany, NY, 12205',\n",
       "   'location': {'x': -73.81704519699997, 'y': 42.73466108300005},\n",
       "   'score': 95,\n",
       "   'attributes': {'ResultID': 1,\n",
       "    'Loc_name': '1A_SAM_AP_ZipN',\n",
       "    'Status': 'M',\n",
       "    'Score': 95,\n",
       "    'Match_addr': '10 B Airline Dr, Albany, NY, 12205',\n",
       "    'Side': '',\n",
       "    'SubAdd': '',\n",
       "    'User_fld': '1',\n",
       "    'Addr_type': 'StreetAddress'}},\n",
       "  {'address': '800 N Pearl St, Albany, NY, 12204',\n",
       "   'location': {'x': -73.73702056599996, 'y': 42.68022927900006},\n",
       "   'score': 100,\n",
       "   'attributes': {'ResultID': 2,\n",
       "    'Loc_name': '1A_SAM_AP_ZipN',\n",
       "    'Status': 'T',\n",
       "    'Score': 100,\n",
       "    'Match_addr': '800 N Pearl St, Albany, NY, 12204',\n",
       "    'Side': '',\n",
       "    'SubAdd': '',\n",
       "    'User_fld': '1',\n",
       "    'Addr_type': 'StreetAddress'}},\n",
       "  {'address': '80 S Swan St, Albany, NY, 12210',\n",
       "   'location': {'x': -73.75989873699996, 'y': 42.65406947400004},\n",
       "   'score': 100,\n",
       "   'attributes': {'ResultID': 3,\n",
       "    'Loc_name': '1A_SAM_AP_ZipN',\n",
       "    'Status': 'M',\n",
       "    'Score': 100,\n",
       "    'Match_addr': '80 S Swan St, Albany, NY, 12210',\n",
       "    'Side': '',\n",
       "    'SubAdd': '',\n",
       "    'User_fld': '1',\n",
       "    'Addr_type': 'StreetAddress'}}]}"
      ]
     },
     "execution_count": 6,
     "metadata": {},
     "output_type": "execute_result"
    }
   ],
   "source": [
    "batch(ls)"
   ]
  },
  {
   "cell_type": "code",
   "execution_count": 7,
   "metadata": {},
   "outputs": [],
   "source": [
    "def listFromCSV(path,address,city,state,ZIP):\n",
    "    l = []\n",
    "    f = pd.read_csv(str(path))\n",
    "    a = f[str(address)]\n",
    "    c = f[str(city)]\n",
    "    s = f[str(state)]\n",
    "    z = f[str(ZIP)]\n",
    "    \n",
    "    f['full'] = a.astype(str) + \", \" +c.astype(str) + \", \" + s.astype(str)+ \" \" + z.astype(str)\n",
    "    fin = f['full'].values.tolist()\n",
    "    return(fin)"
   ]
  },
  {
   "cell_type": "code",
   "execution_count": 8,
   "metadata": {},
   "outputs": [
    {
     "data": {
      "text/plain": [
       "['10B Airline Drive, Albany, NY 12235',\n",
       " '800 North Pearl Street, Albany, NY 12204',\n",
       " '80 South Swan Street, Albany, NY 12210']"
      ]
     },
     "execution_count": 8,
     "metadata": {},
     "output_type": "execute_result"
    }
   ],
   "source": [
    "listFromCSV(\"addresses.csv\",\"address\",\"city\",\"state\",\"zip\")"
   ]
  },
  {
   "cell_type": "code",
   "execution_count": 9,
   "metadata": {},
   "outputs": [],
   "source": [
    "def batch_CSV_to_Geocode(path,address,city,state,ZIP):\n",
    "    p = str(path)\n",
    "    a = str(address)\n",
    "    c = str(city)\n",
    "    s = str(state)\n",
    "    z = str(ZIP)\n",
    "    return batch(listFromCSV(p,a,c,s,z))"
   ]
  },
  {
   "cell_type": "code",
   "execution_count": 170,
   "metadata": {},
   "outputs": [
    {
     "name": "stderr",
     "output_type": "stream",
     "text": [
      "C:\\Users\\JGattuso\\AppData\\Local\\Continuum\\anaconda3\\lib\\site-packages\\urllib3\\connectionpool.py:1004: InsecureRequestWarning: Unverified HTTPS request is being made to host 'gisservices.its.ny.gov'. Adding certificate verification is strongly advised. See: https://urllib3.readthedocs.io/en/latest/advanced-usage.html#ssl-warnings\n",
      "  InsecureRequestWarning,\n"
     ]
    },
    {
     "data": {
      "text/plain": [
       "{'spatialReference': {'wkid': 4326, 'latestWkid': 4326},\n",
       " 'locations': [{'address': '10 B Airline Dr, Albany, NY, 12205',\n",
       "   'location': {'x': -73.81704519699997, 'y': 42.73466108300005},\n",
       "   'score': 95,\n",
       "   'attributes': {'ResultID': 1,\n",
       "    'Loc_name': '1A_SAM_AP_ZipN',\n",
       "    'Status': 'M',\n",
       "    'Score': 95,\n",
       "    'Match_addr': '10 B Airline Dr, Albany, NY, 12205',\n",
       "    'Side': '',\n",
       "    'SubAdd': '',\n",
       "    'User_fld': '1',\n",
       "    'Addr_type': 'StreetAddress'}},\n",
       "  {'address': '800 N Pearl St, Albany, NY, 12204',\n",
       "   'location': {'x': -73.73702056599996, 'y': 42.68022927900006},\n",
       "   'score': 100,\n",
       "   'attributes': {'ResultID': 2,\n",
       "    'Loc_name': '1A_SAM_AP_ZipN',\n",
       "    'Status': 'T',\n",
       "    'Score': 100,\n",
       "    'Match_addr': '800 N Pearl St, Albany, NY, 12204',\n",
       "    'Side': '',\n",
       "    'SubAdd': '',\n",
       "    'User_fld': '1',\n",
       "    'Addr_type': 'StreetAddress'}},\n",
       "  {'address': '80 S Swan St, Albany, NY, 12210',\n",
       "   'location': {'x': -73.75989873699996, 'y': 42.65406947400004},\n",
       "   'score': 100,\n",
       "   'attributes': {'ResultID': 3,\n",
       "    'Loc_name': '1A_SAM_AP_ZipN',\n",
       "    'Status': 'M',\n",
       "    'Score': 100,\n",
       "    'Match_addr': '80 S Swan St, Albany, NY, 12210',\n",
       "    'Side': '',\n",
       "    'SubAdd': '',\n",
       "    'User_fld': '1',\n",
       "    'Addr_type': 'StreetAddress'}}]}"
      ]
     },
     "execution_count": 170,
     "metadata": {},
     "output_type": "execute_result"
    }
   ],
   "source": [
    "batch_CSV_to_Geocode(\"addresses.csv\",\"address\",\"city\",\"state\",\"zip\")"
   ]
  },
  {
   "cell_type": "code",
   "execution_count": 171,
   "metadata": {},
   "outputs": [],
   "source": [
    "def JSON_to_DF(json):\n",
    "    data = json\n",
    "    return json_normalize(data['locations'])"
   ]
  },
  {
   "cell_type": "code",
   "execution_count": 172,
   "metadata": {},
   "outputs": [
    {
     "data": {
      "text/html": [
       "<div>\n",
       "<style scoped>\n",
       "    .dataframe tbody tr th:only-of-type {\n",
       "        vertical-align: middle;\n",
       "    }\n",
       "\n",
       "    .dataframe tbody tr th {\n",
       "        vertical-align: top;\n",
       "    }\n",
       "\n",
       "    .dataframe thead th {\n",
       "        text-align: right;\n",
       "    }\n",
       "</style>\n",
       "<table border=\"1\" class=\"dataframe\">\n",
       "  <thead>\n",
       "    <tr style=\"text-align: right;\">\n",
       "      <th></th>\n",
       "      <th>address</th>\n",
       "      <th>score</th>\n",
       "      <th>location.x</th>\n",
       "      <th>location.y</th>\n",
       "      <th>attributes.ResultID</th>\n",
       "      <th>attributes.Loc_name</th>\n",
       "      <th>attributes.Status</th>\n",
       "      <th>attributes.Score</th>\n",
       "      <th>attributes.Match_addr</th>\n",
       "      <th>attributes.Side</th>\n",
       "      <th>attributes.SubAdd</th>\n",
       "      <th>attributes.User_fld</th>\n",
       "      <th>attributes.Addr_type</th>\n",
       "    </tr>\n",
       "  </thead>\n",
       "  <tbody>\n",
       "    <tr>\n",
       "      <td>0</td>\n",
       "      <td>10 B Airline Dr, Albany, NY, 12205</td>\n",
       "      <td>95</td>\n",
       "      <td>-73.817045</td>\n",
       "      <td>42.734661</td>\n",
       "      <td>1</td>\n",
       "      <td>1A_SAM_AP_ZipN</td>\n",
       "      <td>M</td>\n",
       "      <td>95</td>\n",
       "      <td>10 B Airline Dr, Albany, NY, 12205</td>\n",
       "      <td></td>\n",
       "      <td></td>\n",
       "      <td>1</td>\n",
       "      <td>StreetAddress</td>\n",
       "    </tr>\n",
       "    <tr>\n",
       "      <td>1</td>\n",
       "      <td>800 N Pearl St, Albany, NY, 12204</td>\n",
       "      <td>100</td>\n",
       "      <td>-73.737021</td>\n",
       "      <td>42.680229</td>\n",
       "      <td>2</td>\n",
       "      <td>1A_SAM_AP_ZipN</td>\n",
       "      <td>T</td>\n",
       "      <td>100</td>\n",
       "      <td>800 N Pearl St, Albany, NY, 12204</td>\n",
       "      <td></td>\n",
       "      <td></td>\n",
       "      <td>1</td>\n",
       "      <td>StreetAddress</td>\n",
       "    </tr>\n",
       "    <tr>\n",
       "      <td>2</td>\n",
       "      <td>80 S Swan St, Albany, NY, 12210</td>\n",
       "      <td>100</td>\n",
       "      <td>-73.759899</td>\n",
       "      <td>42.654069</td>\n",
       "      <td>3</td>\n",
       "      <td>1A_SAM_AP_ZipN</td>\n",
       "      <td>M</td>\n",
       "      <td>100</td>\n",
       "      <td>80 S Swan St, Albany, NY, 12210</td>\n",
       "      <td></td>\n",
       "      <td></td>\n",
       "      <td>1</td>\n",
       "      <td>StreetAddress</td>\n",
       "    </tr>\n",
       "  </tbody>\n",
       "</table>\n",
       "</div>"
      ],
      "text/plain": [
       "                              address  score  location.x  location.y  \\\n",
       "0  10 B Airline Dr, Albany, NY, 12205     95  -73.817045   42.734661   \n",
       "1   800 N Pearl St, Albany, NY, 12204    100  -73.737021   42.680229   \n",
       "2     80 S Swan St, Albany, NY, 12210    100  -73.759899   42.654069   \n",
       "\n",
       "   attributes.ResultID attributes.Loc_name attributes.Status  \\\n",
       "0                    1      1A_SAM_AP_ZipN                 M   \n",
       "1                    2      1A_SAM_AP_ZipN                 T   \n",
       "2                    3      1A_SAM_AP_ZipN                 M   \n",
       "\n",
       "   attributes.Score               attributes.Match_addr attributes.Side  \\\n",
       "0                95  10 B Airline Dr, Albany, NY, 12205                   \n",
       "1               100   800 N Pearl St, Albany, NY, 12204                   \n",
       "2               100     80 S Swan St, Albany, NY, 12210                   \n",
       "\n",
       "  attributes.SubAdd attributes.User_fld attributes.Addr_type  \n",
       "0                                     1        StreetAddress  \n",
       "1                                     1        StreetAddress  \n",
       "2                                     1        StreetAddress  "
      ]
     },
     "execution_count": 172,
     "metadata": {},
     "output_type": "execute_result"
    }
   ],
   "source": [
    "JSON_to_DF(b)"
   ]
  },
  {
   "cell_type": "code",
   "execution_count": null,
   "metadata": {},
   "outputs": [],
   "source": []
  }
 ],
 "metadata": {
  "kernelspec": {
   "display_name": "Python 3",
   "language": "python",
   "name": "python3"
  },
  "language_info": {
   "codemirror_mode": {
    "name": "ipython",
    "version": 3
   },
   "file_extension": ".py",
   "mimetype": "text/x-python",
   "name": "python",
   "nbconvert_exporter": "python",
   "pygments_lexer": "ipython3",
   "version": "3.7.4"
  }
 },
 "nbformat": 4,
 "nbformat_minor": 2
}
